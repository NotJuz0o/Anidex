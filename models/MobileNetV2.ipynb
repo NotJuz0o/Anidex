{
 "cells": [
  {
   "cell_type": "code",
   "execution_count": 1,
   "id": "f4fe777c",
   "metadata": {},
   "outputs": [],
   "source": [
    "import pickle\n",
    "import numpy as np\n",
    "import tensorflow as tf\n",
    "from tensorflow import keras\n",
    "from keras import layers, models\n",
    "from keras.applications import MobileNetV2\n",
    "from sklearn.model_selection import train_test_split\n",
    "from sklearn.preprocessing import LabelEncoder\n",
    "from keras.utils import to_categorical\n",
    "import matplotlib.pyplot as plt"
   ]
  },
  {
   "cell_type": "code",
   "execution_count": 2,
   "id": "a04510d2",
   "metadata": {},
   "outputs": [],
   "source": [
    "DATASET_PATH = \"../dataset.pkl\"\n",
    "IMAGE_SIZE = (128, 128, 3)\n",
    "NUM_CLASS = 10\n",
    "BATCH_SIZE = 32\n",
    "EPOCHS = 20\n",
    "LEARNING_RATE = 0.001"
   ]
  },
  {
   "cell_type": "code",
   "execution_count": 3,
   "id": "871ec66c",
   "metadata": {},
   "outputs": [],
   "source": [
    "def load_dataset(dataset_path):\n",
    "    with open(dataset_path, 'rb') as f:\n",
    "        dataset = pickle.load(f)\n",
    "    X = dataset['X']\n",
    "    y = dataset['y']\n",
    "    class_names = dataset['class_names']\n",
    "    return X, y, class_names\n"
   ]
  },
  {
   "cell_type": "code",
   "execution_count": 4,
   "id": "c6291524",
   "metadata": {},
   "outputs": [],
   "source": [
    "def preprocess_data(X, y, class_names):\n",
    "    X = X.astype('float32') / 255.0\n",
    "    label_encoder = LabelEncoder()\n",
    "    y_encoded = label_encoder.fit_transform(y)\n",
    "    y_categorical = to_categorical(y_encoded, num_classes=len(class_names))\n",
    "\n",
    "    X_train, X_temp, y_train, y_temp = train_test_split(\n",
    "        X, y_categorical, test_size=0.3, random_state=42, stratify=y_categorical\n",
    "    )\n",
    "    X_val, X_test, y_val, y_test = train_test_split(\n",
    "        X_temp, y_temp, test_size=0.5, random_state=42, stratify=y_temp\n",
    "    )\n",
    "    return X_train, X_val, X_test, y_train, y_val, y_test, label_encoder"
   ]
  },
  {
   "cell_type": "code",
   "execution_count": 5,
   "id": "d6602c5f",
   "metadata": {},
   "outputs": [
    {
     "name": "stdout",
     "output_type": "stream",
     "text": [
      "Downloading data from https://storage.googleapis.com/tensorflow/keras-applications/mobilenet_v2/mobilenet_v2_weights_tf_dim_ordering_tf_kernels_1.0_128_no_top.h5\n",
      "9406464/9406464 [==============================] - 0s 0us/step\n"
     ]
    }
   ],
   "source": [
    "base_model = MobileNetV2(\n",
    "    input_shape=IMAGE_SIZE,\n",
    "    include_top=False,\n",
    "    weights='imagenet'\n",
    ")    \n",
    "base_model.trainable = False\n",
    "\n",
    "model = models.Sequential([\n",
    "    base_model,\n",
    "    layers.GlobalAveragePooling2D(),\n",
    "    layers.Dropout(0.2),\n",
    "    layers.Dense(128, activation='relu'),\n",
    "    layers.Dropout(0.3),\n",
    "    layers.Dense(NUM_CLASS, activation='softmax')\n",
    "])"
   ]
  },
  {
   "cell_type": "code",
   "execution_count": null,
   "id": "867f4bac",
   "metadata": {},
   "outputs": [],
   "source": [
    "def train_model(model, X_train, y_train, X_val, y_val):\n",
    "    model.compile(\n",
    "        optimizer=tf.keras.optimizers.Adam(learning_rate=LEARNING_RATE),\n",
    "        loss='categorical_crossentropy',\n",
    "        metrics=['accuracy']\n",
    "    )\n",
    "    callbacks = [\n",
    "        tf.keras.callbacks.EarlyStopping(\n",
    "            monitor='val_loss',\n",
    "            patience=5,\n",
    "            restore_best_weights=True\n",
    "        ),\n",
    "        tf.keras.callbacks.ReduceLROnPlateau(\n",
    "            monitor='val_loss',\n",
    "            factor=0.5,\n",
    "            patience=3,\n",
    "            min_lr=1e-7\n",
    "        )\n",
    "    ]\n",
    "    datagen = tf.keras.preprocessing.image.ImageDataGenerator(\n",
    "        rotation_range=20,\n",
    "        width_shift_range=0.2,\n",
    "        height_shift_range=0.2,\n",
    "        horizontal_flip=True,\n",
    "        zoom_range=0.2,\n",
    "        fill_mode='nearest'\n",
    "    )\n",
    "    \n",
    "    print(\"Début de l'entraînement...\")\n",
    "    history = model.fit(\n",
    "        datagen.flow(X_train, y_train, batch_size=BATCH_SIZE),\n",
    "        steps_per_epoch=len(X_train) // BATCH_SIZE,\n",
    "        epochs=EPOCHS,\n",
    "        validation_data=(X_val, y_val),\n",
    "        callbacks=callbacks,\n",
    "        verbose=1\n",
    "    )\n",
    "    \n",
    "    return history"
   ]
  },
  {
   "cell_type": "code",
   "execution_count": null,
   "id": "8d9caf0a",
   "metadata": {},
   "outputs": [],
   "source": [
    "def evaluate_model(model, X_test, y_test, class_names, label_encoder):\n",
    "    print(\"Évaluation du modèle...\")\n",
    "    test_loss, test_accuracy = model.evaluate(X_test, y_test, verbose=0)\n",
    "    print(f\"Précision sur le test: {test_accuracy:.4f}\")\n",
    "    predictions = model.predict(X_test)\n",
    "    predicted_classes = np.argmax(predictions, axis=1)\n",
    "    true_classes = np.argmax(y_test, axis=1)\n",
    "    from sklearn.metrics import classification_report, confusion_matrix\n",
    "    print(\"\\nRapport de classification:\")\n",
    "    print(classification_report(\n",
    "        true_classes, \n",
    "        predicted_classes, \n",
    "        target_names=class_names\n",
    "    ))\n",
    "    return test_accuracy"
   ]
  },
  {
   "cell_type": "code",
   "execution_count": 8,
   "id": "b1b92303",
   "metadata": {},
   "outputs": [
    {
     "name": "stdout",
     "output_type": "stream",
     "text": [
      "🚀 Début de l'entraînement...\n",
      "Epoch 1/20\n"
     ]
    },
    {
     "name": "stderr",
     "output_type": "stream",
     "text": [
      "2025-06-26 17:35:39.171529: W external/local_tsl/tsl/framework/cpu_allocator_impl.cc:83] Allocation of 16777216 exceeds 10% of free system memory.\n",
      "2025-06-26 17:35:39.229155: W external/local_tsl/tsl/framework/cpu_allocator_impl.cc:83] Allocation of 16777216 exceeds 10% of free system memory.\n",
      "2025-06-26 17:35:39.240795: W external/local_tsl/tsl/framework/cpu_allocator_impl.cc:83] Allocation of 16777216 exceeds 10% of free system memory.\n",
      "2025-06-26 17:35:39.267788: W external/local_tsl/tsl/framework/cpu_allocator_impl.cc:83] Allocation of 50331648 exceeds 10% of free system memory.\n",
      "2025-06-26 17:35:39.296003: W external/local_tsl/tsl/framework/cpu_allocator_impl.cc:83] Allocation of 51916800 exceeds 10% of free system memory.\n"
     ]
    },
    {
     "name": "stdout",
     "output_type": "stream",
     "text": [
      "175/175 [==============================] - 56s 303ms/step - loss: 0.9003 - accuracy: 0.7084 - val_loss: 0.3738 - val_accuracy: 0.8750 - lr: 0.0010\n",
      "Epoch 2/20\n",
      "175/175 [==============================] - 46s 265ms/step - loss: 0.5467 - accuracy: 0.8246 - val_loss: 0.2858 - val_accuracy: 0.9050 - lr: 0.0010\n",
      "Epoch 3/20\n",
      "175/175 [==============================] - 41s 234ms/step - loss: 0.4870 - accuracy: 0.8407 - val_loss: 0.2768 - val_accuracy: 0.9133 - lr: 0.0010\n",
      "Epoch 4/20\n",
      "175/175 [==============================] - 46s 265ms/step - loss: 0.4498 - accuracy: 0.8523 - val_loss: 0.2580 - val_accuracy: 0.9075 - lr: 0.0010\n",
      "Epoch 5/20\n",
      "175/175 [==============================] - 40s 229ms/step - loss: 0.4348 - accuracy: 0.8546 - val_loss: 0.2626 - val_accuracy: 0.9167 - lr: 0.0010\n",
      "Epoch 6/20\n",
      "175/175 [==============================] - 45s 257ms/step - loss: 0.4080 - accuracy: 0.8643 - val_loss: 0.2756 - val_accuracy: 0.9125 - lr: 0.0010\n",
      "Epoch 7/20\n",
      "175/175 [==============================] - 45s 257ms/step - loss: 0.4153 - accuracy: 0.8598 - val_loss: 0.3004 - val_accuracy: 0.9125 - lr: 0.0010\n",
      "Epoch 8/20\n",
      "175/175 [==============================] - 45s 256ms/step - loss: 0.3669 - accuracy: 0.8780 - val_loss: 0.2456 - val_accuracy: 0.9208 - lr: 5.0000e-04\n",
      "Epoch 9/20\n",
      "175/175 [==============================] - 44s 249ms/step - loss: 0.3260 - accuracy: 0.8864 - val_loss: 0.2712 - val_accuracy: 0.9208 - lr: 5.0000e-04\n",
      "Epoch 10/20\n",
      "175/175 [==============================] - 44s 249ms/step - loss: 0.3361 - accuracy: 0.8873 - val_loss: 0.2584 - val_accuracy: 0.9167 - lr: 5.0000e-04\n",
      "Epoch 11/20\n",
      "175/175 [==============================] - 45s 256ms/step - loss: 0.3274 - accuracy: 0.8898 - val_loss: 0.2531 - val_accuracy: 0.9183 - lr: 5.0000e-04\n",
      "Epoch 12/20\n",
      "175/175 [==============================] - 46s 261ms/step - loss: 0.3043 - accuracy: 0.8979 - val_loss: 0.2464 - val_accuracy: 0.9175 - lr: 2.5000e-04\n",
      "Epoch 13/20\n",
      "175/175 [==============================] - 47s 267ms/step - loss: 0.2885 - accuracy: 0.9043 - val_loss: 0.2519 - val_accuracy: 0.9208 - lr: 2.5000e-04\n",
      "📊 Évaluation du modèle...\n",
      "Précision sur le test: 0.9067\n",
      "38/38 [==============================] - 8s 187ms/step\n",
      "\n",
      "📋 Rapport de classification:\n",
      "              precision    recall  f1-score   support\n",
      "\n",
      "   butterfly       0.96      0.96      0.96       120\n",
      "         cat       0.92      0.91      0.91       120\n",
      "     chicken       0.94      0.94      0.94       120\n",
      "         cow       0.81      0.86      0.83       120\n",
      "         dog       0.91      0.85      0.88       120\n",
      "    elephant       0.90      0.96      0.93       120\n",
      "       horse       0.92      0.81      0.86       120\n",
      "       sheep       0.82      0.90      0.86       120\n",
      "      spider       0.94      0.97      0.96       120\n",
      "    squirrel       0.96      0.91      0.94       120\n",
      "\n",
      "    accuracy                           0.91      1200\n",
      "   macro avg       0.91      0.91      0.91      1200\n",
      "weighted avg       0.91      0.91      0.91      1200\n",
      "\n"
     ]
    }
   ],
   "source": [
    "X, y, class_names = load_dataset(DATASET_PATH)\n",
    "X_train, X_val, X_test, y_train, y_val, y_test, label_encoder = preprocess_data(X, y, class_names)\n",
    "\n",
    "history = train_model(model, X_train, y_train, X_val, y_val)\n",
    "test_accuracy = evaluate_model(model, X_test, y_test, class_names, label_encoder)"
   ]
  },
  {
   "cell_type": "code",
   "execution_count": 9,
   "id": "eff6d860",
   "metadata": {},
   "outputs": [
    {
     "name": "stderr",
     "output_type": "stream",
     "text": [
      "/home/juzoo/Epitech/TEK1/HUB/Anidex/.venv/lib/python3.11/site-packages/keras/src/engine/training.py:3103: UserWarning: You are saving your model as an HDF5 file via `model.save()`. This file format is considered legacy. We recommend using instead the native Keras format, e.g. `model.save('my_model.keras')`.\n",
      "  saving_api.save_model(\n"
     ]
    }
   ],
   "source": [
    "model.save('../model_classification.h5')"
   ]
  }
 ],
 "metadata": {
  "kernelspec": {
   "display_name": ".venv",
   "language": "python",
   "name": "python3"
  },
  "language_info": {
   "codemirror_mode": {
    "name": "ipython",
    "version": 3
   },
   "file_extension": ".py",
   "mimetype": "text/x-python",
   "name": "python",
   "nbconvert_exporter": "python",
   "pygments_lexer": "ipython3",
   "version": "3.11.13"
  }
 },
 "nbformat": 4,
 "nbformat_minor": 5
}
