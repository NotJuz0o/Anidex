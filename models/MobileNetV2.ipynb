{
 "cells": [
  {
   "cell_type": "code",
   "execution_count": 1,
   "id": "f4fe777c",
   "metadata": {},
   "outputs": [
    {
     "name": "stderr",
     "output_type": "stream",
     "text": [
      "2025-06-27 02:54:18.156229: I external/local_tsl/tsl/cuda/cudart_stub.cc:31] Could not find cuda drivers on your machine, GPU will not be used.\n",
      "2025-06-27 02:54:18.335400: E external/local_xla/xla/stream_executor/cuda/cuda_dnn.cc:9261] Unable to register cuDNN factory: Attempting to register factory for plugin cuDNN when one has already been registered\n",
      "2025-06-27 02:54:18.335501: E external/local_xla/xla/stream_executor/cuda/cuda_fft.cc:607] Unable to register cuFFT factory: Attempting to register factory for plugin cuFFT when one has already been registered\n",
      "2025-06-27 02:54:18.370774: E external/local_xla/xla/stream_executor/cuda/cuda_blas.cc:1515] Unable to register cuBLAS factory: Attempting to register factory for plugin cuBLAS when one has already been registered\n",
      "2025-06-27 02:54:18.448881: I external/local_tsl/tsl/cuda/cudart_stub.cc:31] Could not find cuda drivers on your machine, GPU will not be used.\n",
      "2025-06-27 02:54:18.450001: I tensorflow/core/platform/cpu_feature_guard.cc:182] This TensorFlow binary is optimized to use available CPU instructions in performance-critical operations.\n",
      "To enable the following instructions: AVX2 FMA, in other operations, rebuild TensorFlow with the appropriate compiler flags.\n",
      "2025-06-27 02:54:19.818639: W tensorflow/compiler/tf2tensorrt/utils/py_utils.cc:38] TF-TRT Warning: Could not find TensorRT\n"
     ]
    }
   ],
   "source": [
    "import pickle\n",
    "import numpy as np\n",
    "import tensorflow as tf\n",
    "from tensorflow import keras\n",
    "from keras import layers, models\n",
    "from keras.applications import MobileNetV2\n",
    "from sklearn.model_selection import train_test_split\n",
    "from sklearn.preprocessing import LabelEncoder\n",
    "from keras.utils import to_categorical\n",
    "import matplotlib.pyplot as plt"
   ]
  },
  {
   "cell_type": "code",
   "execution_count": 2,
   "id": "a04510d2",
   "metadata": {},
   "outputs": [],
   "source": [
    "DATASET_PATH = \"../dataset.pkl\"\n",
    "IMAGE_SIZE = (128, 128, 3)\n",
    "NUM_CLASS = 10\n",
    "BATCH_SIZE = 32\n",
    "EPOCHS = 20\n",
    "LEARNING_RATE = 0.001"
   ]
  },
  {
   "cell_type": "code",
   "execution_count": 3,
   "id": "871ec66c",
   "metadata": {},
   "outputs": [],
   "source": [
    "def load_dataset(dataset_path):\n",
    "    with open(dataset_path, 'rb') as f:\n",
    "        dataset = pickle.load(f)\n",
    "    X = dataset['X']\n",
    "    y = dataset['y']\n",
    "    class_names = dataset['class_names']\n",
    "    return X, y, class_names\n"
   ]
  },
  {
   "cell_type": "code",
   "execution_count": 4,
   "id": "c6291524",
   "metadata": {},
   "outputs": [],
   "source": [
    "def preprocess_data(X, y, class_names):\n",
    "    X = X.astype('float32') / 255.0\n",
    "    label_encoder = LabelEncoder()\n",
    "    y_encoded = label_encoder.fit_transform(y)\n",
    "    y_categorical = to_categorical(y_encoded, num_classes=len(class_names))\n",
    "\n",
    "    X_train, X_temp, y_train, y_temp = train_test_split(\n",
    "        X, y_categorical, test_size=0.3, random_state=42, stratify=y_categorical\n",
    "    )\n",
    "    X_val, X_test, y_val, y_test = train_test_split(\n",
    "        X_temp, y_temp, test_size=0.5, random_state=42, stratify=y_temp\n",
    "    )\n",
    "    return X_train, X_val, X_test, y_train, y_val, y_test, label_encoder"
   ]
  },
  {
   "cell_type": "code",
   "execution_count": 5,
   "id": "d6602c5f",
   "metadata": {},
   "outputs": [],
   "source": [
    "base_model = MobileNetV2(\n",
    "    input_shape=IMAGE_SIZE,\n",
    "    include_top=False,\n",
    "    weights='imagenet'\n",
    ")    \n",
    "base_model.trainable = False\n",
    "\n",
    "model = models.Sequential([\n",
    "    base_model,\n",
    "    layers.GlobalAveragePooling2D(),\n",
    "    layers.Dropout(0.2),\n",
    "    layers.Dense(128, activation='relu'),\n",
    "    layers.Dropout(0.3),\n",
    "    layers.Dense(NUM_CLASS, activation='softmax')\n",
    "])"
   ]
  },
  {
   "cell_type": "code",
   "execution_count": 6,
   "id": "867f4bac",
   "metadata": {},
   "outputs": [],
   "source": [
    "def train_model(model, X_train, y_train, X_val, y_val):\n",
    "    model.compile(\n",
    "        optimizer=tf.keras.optimizers.Adam(learning_rate=LEARNING_RATE),\n",
    "        loss='categorical_crossentropy',\n",
    "        metrics=['accuracy']\n",
    "    )\n",
    "    callbacks = [\n",
    "        tf.keras.callbacks.EarlyStopping(\n",
    "            monitor='val_loss',\n",
    "            patience=5,\n",
    "            restore_best_weights=True\n",
    "        ),\n",
    "        tf.keras.callbacks.ReduceLROnPlateau(\n",
    "            monitor='val_loss',\n",
    "            factor=0.5,\n",
    "            patience=3,\n",
    "            min_lr=1e-7\n",
    "        )\n",
    "    ]\n",
    "    datagen = tf.keras.preprocessing.image.ImageDataGenerator(\n",
    "        rotation_range=20,\n",
    "        width_shift_range=0.2,\n",
    "        height_shift_range=0.2,\n",
    "        horizontal_flip=True,\n",
    "        zoom_range=0.2,\n",
    "        fill_mode='nearest'\n",
    "    )\n",
    "    \n",
    "    print(\"Début de l'entraînement...\")\n",
    "    history = model.fit(\n",
    "        datagen.flow(X_train, y_train, batch_size=BATCH_SIZE),\n",
    "        steps_per_epoch=len(X_train) // BATCH_SIZE,\n",
    "        epochs=EPOCHS,\n",
    "        validation_data=(X_val, y_val),\n",
    "        callbacks=callbacks,\n",
    "        verbose=1\n",
    "    )\n",
    "    \n",
    "    return history"
   ]
  },
  {
   "cell_type": "code",
   "execution_count": 7,
   "id": "8d9caf0a",
   "metadata": {},
   "outputs": [],
   "source": [
    "def evaluate_model(model, X_test, y_test, class_names, label_encoder):\n",
    "    print(\"Évaluation du modèle...\")\n",
    "    test_loss, test_accuracy = model.evaluate(X_test, y_test, verbose=0)\n",
    "    print(f\"Précision sur le test: {test_accuracy:.4f}\")\n",
    "    predictions = model.predict(X_test)\n",
    "    predicted_classes = np.argmax(predictions, axis=1)\n",
    "    true_classes = np.argmax(y_test, axis=1)\n",
    "    from sklearn.metrics import classification_report, confusion_matrix\n",
    "    print(\"\\nRapport de classification:\")\n",
    "    print(classification_report(\n",
    "        true_classes, \n",
    "        predicted_classes, \n",
    "        target_names=class_names\n",
    "    ))\n",
    "    return test_accuracy"
   ]
  },
  {
   "cell_type": "code",
   "execution_count": 8,
   "id": "b1b92303",
   "metadata": {},
   "outputs": [
    {
     "name": "stdout",
     "output_type": "stream",
     "text": [
      "Début de l'entraînement...\n",
      "Epoch 1/20\n"
     ]
    },
    {
     "name": "stderr",
     "output_type": "stream",
     "text": [
      "2025-06-27 02:54:53.284818: W external/local_tsl/tsl/framework/cpu_allocator_impl.cc:83] Allocation of 50331648 exceeds 10% of free system memory.\n",
      "2025-06-27 02:54:53.314691: W external/local_tsl/tsl/framework/cpu_allocator_impl.cc:83] Allocation of 51916800 exceeds 10% of free system memory.\n",
      "2025-06-27 02:54:53.365039: W external/local_tsl/tsl/framework/cpu_allocator_impl.cc:83] Allocation of 18874368 exceeds 10% of free system memory.\n",
      "2025-06-27 02:54:53.378386: W external/local_tsl/tsl/framework/cpu_allocator_impl.cc:83] Allocation of 18874368 exceeds 10% of free system memory.\n",
      "2025-06-27 02:54:53.392425: W external/local_tsl/tsl/framework/cpu_allocator_impl.cc:83] Allocation of 18874368 exceeds 10% of free system memory.\n"
     ]
    },
    {
     "name": "stdout",
     "output_type": "stream",
     "text": [
      "175/175 [==============================] - 55s 297ms/step - loss: 0.9225 - accuracy: 0.7043 - val_loss: 0.3567 - val_accuracy: 0.8892 - lr: 0.0010\n",
      "Epoch 2/20\n",
      "175/175 [==============================] - 45s 254ms/step - loss: 0.5552 - accuracy: 0.8170 - val_loss: 0.3134 - val_accuracy: 0.8975 - lr: 0.0010\n",
      "Epoch 3/20\n",
      "175/175 [==============================] - 43s 246ms/step - loss: 0.5014 - accuracy: 0.8380 - val_loss: 0.2818 - val_accuracy: 0.9133 - lr: 0.0010\n",
      "Epoch 4/20\n",
      "175/175 [==============================] - 43s 246ms/step - loss: 0.4591 - accuracy: 0.8502 - val_loss: 0.2947 - val_accuracy: 0.9000 - lr: 0.0010\n",
      "Epoch 5/20\n",
      "175/175 [==============================] - 43s 245ms/step - loss: 0.4242 - accuracy: 0.8571 - val_loss: 0.3002 - val_accuracy: 0.9000 - lr: 0.0010\n",
      "Epoch 6/20\n",
      "175/175 [==============================] - 43s 245ms/step - loss: 0.4200 - accuracy: 0.8546 - val_loss: 0.2828 - val_accuracy: 0.9092 - lr: 0.0010\n",
      "Epoch 7/20\n",
      "175/175 [==============================] - 43s 246ms/step - loss: 0.3733 - accuracy: 0.8746 - val_loss: 0.2736 - val_accuracy: 0.9100 - lr: 5.0000e-04\n",
      "Epoch 8/20\n",
      "175/175 [==============================] - 43s 243ms/step - loss: 0.3450 - accuracy: 0.8848 - val_loss: 0.2542 - val_accuracy: 0.9183 - lr: 5.0000e-04\n",
      "Epoch 9/20\n",
      "175/175 [==============================] - 42s 241ms/step - loss: 0.3452 - accuracy: 0.8827 - val_loss: 0.2737 - val_accuracy: 0.9100 - lr: 5.0000e-04\n",
      "Epoch 10/20\n",
      "175/175 [==============================] - 42s 241ms/step - loss: 0.3469 - accuracy: 0.8827 - val_loss: 0.2620 - val_accuracy: 0.9192 - lr: 5.0000e-04\n",
      "Epoch 11/20\n",
      "175/175 [==============================] - 42s 242ms/step - loss: 0.3240 - accuracy: 0.8888 - val_loss: 0.2462 - val_accuracy: 0.9225 - lr: 5.0000e-04\n",
      "Epoch 12/20\n",
      "175/175 [==============================] - 42s 241ms/step - loss: 0.3085 - accuracy: 0.9032 - val_loss: 0.2580 - val_accuracy: 0.9158 - lr: 5.0000e-04\n",
      "Epoch 13/20\n",
      "175/175 [==============================] - 44s 251ms/step - loss: 0.3097 - accuracy: 0.8982 - val_loss: 0.2764 - val_accuracy: 0.9142 - lr: 5.0000e-04\n",
      "Epoch 14/20\n",
      "175/175 [==============================] - 43s 247ms/step - loss: 0.3070 - accuracy: 0.8989 - val_loss: 0.2659 - val_accuracy: 0.9167 - lr: 5.0000e-04\n",
      "Epoch 15/20\n",
      "175/175 [==============================] - 45s 259ms/step - loss: 0.2992 - accuracy: 0.8959 - val_loss: 0.2567 - val_accuracy: 0.9200 - lr: 2.5000e-04\n",
      "Epoch 16/20\n",
      "175/175 [==============================] - 44s 252ms/step - loss: 0.2881 - accuracy: 0.9034 - val_loss: 0.2507 - val_accuracy: 0.9217 - lr: 2.5000e-04\n",
      "Évaluation du modèle...\n",
      "Précision sur le test: 0.9150\n",
      "38/38 [==============================] - 9s 204ms/step\n",
      "\n",
      "Rapport de classification:\n",
      "              precision    recall  f1-score   support\n",
      "\n",
      "   butterfly       0.95      0.98      0.97       120\n",
      "         cat       0.92      0.91      0.92       120\n",
      "     chicken       0.90      0.95      0.93       120\n",
      "         cow       0.83      0.89      0.86       120\n",
      "         dog       0.88      0.88      0.88       120\n",
      "    elephant       0.96      0.93      0.95       120\n",
      "       horse       0.95      0.84      0.89       120\n",
      "       sheep       0.86      0.90      0.88       120\n",
      "      spider       0.99      0.95      0.97       120\n",
      "    squirrel       0.92      0.92      0.92       120\n",
      "\n",
      "    accuracy                           0.92      1200\n",
      "   macro avg       0.92      0.91      0.92      1200\n",
      "weighted avg       0.92      0.92      0.92      1200\n",
      "\n"
     ]
    }
   ],
   "source": [
    "X, y, class_names = load_dataset(DATASET_PATH)\n",
    "X_train, X_val, X_test, y_train, y_val, y_test, label_encoder = preprocess_data(X, y, class_names)\n",
    "\n",
    "history = train_model(model, X_train, y_train, X_val, y_val)\n",
    "test_accuracy = evaluate_model(model, X_test, y_test, class_names, label_encoder)"
   ]
  },
  {
   "cell_type": "code",
   "execution_count": 10,
   "id": "eff6d860",
   "metadata": {},
   "outputs": [],
   "source": [
    "model.save('../models/model_classification.h5')"
   ]
  }
 ],
 "metadata": {
  "kernelspec": {
   "display_name": ".venv",
   "language": "python",
   "name": "python3"
  },
  "language_info": {
   "codemirror_mode": {
    "name": "ipython",
    "version": 3
   },
   "file_extension": ".py",
   "mimetype": "text/x-python",
   "name": "python",
   "nbconvert_exporter": "python",
   "pygments_lexer": "ipython3",
   "version": "3.11.13"
  }
 },
 "nbformat": 4,
 "nbformat_minor": 5
}
