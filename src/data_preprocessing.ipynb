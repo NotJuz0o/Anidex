{
 "cells": [
  {
   "cell_type": "code",
   "execution_count": 6,
   "id": "347c083f",
   "metadata": {},
   "outputs": [],
   "source": [
    "import os\n",
    "import pickle\n",
    "import numpy as np\n",
    "from PIL import Image\n",
    "from tqdm import tqdm\n",
    "import random"
   ]
  },
  {
   "cell_type": "code",
   "execution_count": 7,
   "id": "5fa4553e",
   "metadata": {},
   "outputs": [],
   "source": [
    "DATASET_PATH = \"../data\"\n",
    "IMAGE_SIZE = (128, 128)\n",
    "MAX_IMAGES_PER_CLASS = 1500\n",
    "OUTPUT_PATH = \"dataset.pkl\"\n",
    "SUPPORTED_EXTENSIONS = {'.jpg', '.jpeg', '.png', '.bmp', '.gif', '.tiff'}"
   ]
  },
  {
   "cell_type": "code",
   "execution_count": 8,
   "id": "e68bfcfa",
   "metadata": {},
   "outputs": [],
   "source": [
    "def load_and_resize_image(image_path, target_size):\n",
    "    try:\n",
    "        with Image.open(image_path) as img:\n",
    "            if img.mode != 'RGB':\n",
    "                img = img.convert('RGB')\n",
    "            img_resized = img.resize(target_size, Image.Resampling.LANCZOS)\n",
    "            return np.array(img_resized)\n",
    "    except Exception as e:\n",
    "        print(f\"Error: {image_path}: {e}\")\n",
    "        return None\n",
    "\n",
    "def get_image_files(folder_path):\n",
    "    image_files = []\n",
    "    for file in os.listdir(folder_path):\n",
    "        if os.path.splitext(file.lower())[1] in SUPPORTED_EXTENSIONS:\n",
    "            image_files.append(os.path.join(folder_path, file))\n",
    "    return image_files\n",
    "\n",
    "def process_dataset():\n",
    "    class_folders = [item for item in os.listdir(DATASET_PATH) \n",
    "                    if os.path.isdir(os.path.join(DATASET_PATH, item))]\n",
    "    class_folders.sort()    \n",
    "    print(f\"\\nClasses found: {class_folders}\")\n",
    "    X = []\n",
    "    y = []\n",
    "\n",
    "    for class_name in class_folders:\n",
    "        print(f\"\\nProcessing: {class_name}\")\n",
    "        class_path = os.path.join(DATASET_PATH, class_name)\n",
    "        image_files = get_image_files(class_path)\n",
    "        if len(image_files) > MAX_IMAGES_PER_CLASS:\n",
    "            image_files = random.sample(image_files, MAX_IMAGES_PER_CLASS)\n",
    "        for img_path in tqdm(image_files, desc=f\"Processing {class_name}\"):\n",
    "            img_array = load_and_resize_image(img_path, IMAGE_SIZE)\n",
    "            if img_array is not None:\n",
    "                X.append(img_array)\n",
    "                y.append(class_name)\n",
    "        print(f\"  {len([f for f in image_files if load_and_resize_image(f, IMAGE_SIZE) is not None])} images added !\")\n",
    "    \n",
    "    X = np.array(X)\n",
    "    y = np.array(y)\n",
    "    \n",
    "    print(f\"\\nResult:\")\n",
    "    print(f\"X shape: {X.shape}\")\n",
    "    print(f\"y shape: {y.shape}\")\n",
    "    print(f\"Classes: {len(class_folders)}\")\n",
    "    print(f\"Example y: {y[:5]}\")\n",
    "    \n",
    "    return X, y, class_folders"
   ]
  },
  {
   "cell_type": "code",
   "execution_count": 9,
   "id": "cd0e67f2",
   "metadata": {},
   "outputs": [],
   "source": [
    "def save_dataset(X, y, class_names, output_path):\n",
    "    dataset = {\n",
    "        'X': X,\n",
    "        'y': y,\n",
    "        'class_names': class_names\n",
    "    }\n",
    "    with open(output_path, 'wb') as f:\n",
    "        pickle.dump(dataset, f)\n",
    "    file_size = os.path.getsize(output_path) / (1024**2)\n",
    "    print(f\"\\nDataset saved: {output_path} ({file_size:.2f} MB)\")"
   ]
  },
  {
   "cell_type": "code",
   "execution_count": 10,
   "id": "348ed052",
   "metadata": {},
   "outputs": [
    {
     "name": "stdout",
     "output_type": "stream",
     "text": [
      "🚀 Début du traitement...\n",
      "\n",
      "Classes found: ['butterfly', 'cat', 'chicken', 'cow', 'dog', 'elephant', 'horse', 'sheep', 'spider', 'squirrel']\n",
      "\n",
      "Processing: butterfly\n"
     ]
    },
    {
     "name": "stderr",
     "output_type": "stream",
     "text": [
      "Processing butterfly:   0%|          | 0/1500 [00:00<?, ?it/s]"
     ]
    },
    {
     "name": "stderr",
     "output_type": "stream",
     "text": [
      "Processing butterfly: 100%|██████████| 1500/1500 [00:05<00:00, 292.94it/s]\n"
     ]
    },
    {
     "name": "stdout",
     "output_type": "stream",
     "text": [
      "  1500 images added !\n",
      "\n",
      "Processing: cat\n"
     ]
    },
    {
     "name": "stderr",
     "output_type": "stream",
     "text": [
      "Processing cat: 100%|██████████| 1500/1500 [00:10<00:00, 137.39it/s]\n"
     ]
    },
    {
     "name": "stdout",
     "output_type": "stream",
     "text": [
      "  1500 images added !\n",
      "\n",
      "Processing: chicken\n"
     ]
    },
    {
     "name": "stderr",
     "output_type": "stream",
     "text": [
      "Processing chicken: 100%|██████████| 1500/1500 [00:02<00:00, 581.85it/s]\n"
     ]
    },
    {
     "name": "stdout",
     "output_type": "stream",
     "text": [
      "  1500 images added !\n",
      "\n",
      "Processing: cow\n"
     ]
    },
    {
     "name": "stderr",
     "output_type": "stream",
     "text": [
      "Processing cow: 100%|██████████| 1500/1500 [00:02<00:00, 645.86it/s]\n"
     ]
    },
    {
     "name": "stdout",
     "output_type": "stream",
     "text": [
      "  1500 images added !\n",
      "\n",
      "Processing: dog\n"
     ]
    },
    {
     "name": "stderr",
     "output_type": "stream",
     "text": [
      "Processing dog: 100%|██████████| 1500/1500 [00:02<00:00, 600.48it/s]\n"
     ]
    },
    {
     "name": "stdout",
     "output_type": "stream",
     "text": [
      "  1500 images added !\n",
      "\n",
      "Processing: elephant\n"
     ]
    },
    {
     "name": "stderr",
     "output_type": "stream",
     "text": [
      "Processing elephant: 100%|██████████| 1446/1446 [00:04<00:00, 332.22it/s]\n"
     ]
    },
    {
     "name": "stdout",
     "output_type": "stream",
     "text": [
      "  1446 images added !\n",
      "\n",
      "Processing: horse\n"
     ]
    },
    {
     "name": "stderr",
     "output_type": "stream",
     "text": [
      "Processing horse: 100%|██████████| 1500/1500 [00:02<00:00, 559.82it/s]\n"
     ]
    },
    {
     "name": "stdout",
     "output_type": "stream",
     "text": [
      "  1500 images added !\n",
      "\n",
      "Processing: sheep\n"
     ]
    },
    {
     "name": "stderr",
     "output_type": "stream",
     "text": [
      "Processing sheep: 100%|██████████| 1500/1500 [00:05<00:00, 289.41it/s]\n"
     ]
    },
    {
     "name": "stdout",
     "output_type": "stream",
     "text": [
      "  1500 images added !\n",
      "\n",
      "Processing: spider\n"
     ]
    },
    {
     "name": "stderr",
     "output_type": "stream",
     "text": [
      "Processing spider: 100%|██████████| 1500/1500 [00:02<00:00, 565.12it/s]\n"
     ]
    },
    {
     "name": "stdout",
     "output_type": "stream",
     "text": [
      "  1500 images added !\n",
      "\n",
      "Processing: squirrel\n"
     ]
    },
    {
     "name": "stderr",
     "output_type": "stream",
     "text": [
      "Processing squirrel: 100%|██████████| 1500/1500 [00:02<00:00, 629.10it/s]\n"
     ]
    },
    {
     "name": "stdout",
     "output_type": "stream",
     "text": [
      "  1500 images added !\n",
      "\n",
      "Result:\n",
      "X shape: (14946, 128, 128, 3)\n",
      "y shape: (14946,)\n",
      "Classes: 10\n",
      "Example y: ['butterfly' 'butterfly' 'butterfly' 'butterfly' 'butterfly']\n",
      "\n",
      "Dataset saved: dataset.pkl (701.11 MB)\n",
      "\n",
      "✅ Terminé!\n",
      "📁 Dataset: dataset.pkl\n"
     ]
    }
   ],
   "source": [
    "if __name__ == \"__main__\":\n",
    "    random.seed(42)\n",
    "    np.random.seed(42)\n",
    "\n",
    "    print(\"🚀 Début du traitement...\")\n",
    "    X, y, class_names = process_dataset()\n",
    "    save_dataset(X, y, class_names, OUTPUT_PATH)\n",
    "    print(f\"\\n✅ Terminé!\")\n",
    "    print(f\"📁 Dataset: {OUTPUT_PATH}\")"
   ]
  }
 ],
 "metadata": {
  "kernelspec": {
   "display_name": ".venv",
   "language": "python",
   "name": "python3"
  },
  "language_info": {
   "codemirror_mode": {
    "name": "ipython",
    "version": 3
   },
   "file_extension": ".py",
   "mimetype": "text/x-python",
   "name": "python",
   "nbconvert_exporter": "python",
   "pygments_lexer": "ipython3",
   "version": "3.11.13"
  }
 },
 "nbformat": 4,
 "nbformat_minor": 5
}
